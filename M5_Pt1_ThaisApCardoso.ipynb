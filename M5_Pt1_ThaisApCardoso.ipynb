{
  "cells": [
    {
      "cell_type": "markdown",
      "metadata": {
        "id": "Le7CPQF1VAGt"
      },
      "source": [
        "# Módulo 5 Tarefa 1\n",
        "## Base de nascidos vivos do DataSUS\n",
        "O DataSUS disponibiliza diversos arquivos de dados com relação a seus segurados, conforme a [lei da transparência de informações públicas](https://www.sisgov.com/transparencia-acesso-informacao/#:~:text=A%20Lei%20da%20Transpar%C3%AAncia%20(LC,em%20um%20site%20na%20internet.).\n",
        "\n",
        "Essas informações podem ser obtidas pela internet [aqui](http://www2.datasus.gov.br/DATASUS/index.php?area=0901&item=1). Como o processo de obtenção desses arquivos foge um pouco do nosso escopo, deixamos o arquivo SINASC_RO_2019.csv` já como vai ser encontrado no DataSUS. O dicionário de dados está no arquivo `estrutura_sinasc_para_CD.pdf` (o nome do arquivo tal qual no portal do DataSUS).\n",
        "\n",
        "### Nosso objetivo\n",
        "Queremos deixar uma base organizada para podermos estudar a relação entre partos com risco para o bebê e algumas condições como tempo de parto, consultas de pré-natal etc.\n",
        "\n",
        "#### Preparação da base\n",
        "1. Carregue a base 'SINASC_RO_2019.csv'. Conte o número de registros e o número de registros não duplicados da base. Dica: você aprendeu um método que remove duplicados, encadeie este método com um outro método que conta o número de linhas. **Há linhas duplicadas?**  \n",
        "\n",
        "2. Conte o número de valores *missing* por variável.  \n",
        "\n",
        "3. Ok, no item anterior você deve ter achado pouco prático ler a informação de tantas variáveis, muitas delas nem devem ser interesantes. Então crie uma seleção dessa base somente com as colunas que interessam. São elas:\n",
        "`\n",
        "['LOCNASC', 'IDADEMAE', 'ESTCIVMAE', 'ESCMAE', 'QTDFILVIVO',\n",
        "    'GESTACAO', 'GRAVIDEZ', 'CONSULTAS', 'APGAR5']\n",
        "`\n",
        "Refaça a contagem de valores *missings*.  \n",
        "\n",
        "4. Apgar é uma *nota* que o pediatra dá ao bebê quando nasce de acordo com algumas características associadas principalmente à respiração. Apgar 1 e Apgar 5 são as notas 1 e 5 minutos do nascimento. Apgar5 será a nossa variável de interesse principal. Então remova todos os registros com Apgar5 não preenchido. Para esta seleção, conte novamente o número de linhas e o número de *missings*.  \n",
        "\n",
        "5. observe que as variáveis `['ESTCIVMAE', 'CONSULTAS']` possuem o código `9`, que significa *ignorado*. Vamos assumir que o não preenchido é o mesmo que o código `9`.<br>\n",
        "6. Substitua os valores faltantes da quantitativa (`QTDFILVIVO`) por zero.  \n",
        "7. Das restantes, decida que valore te parece mais adequado (um 'não preenchido' ou um valor 'mais provável' como no item anterior) e preencha. Justifique. Lembre-se de que tratamento de dados é trabalho do cientista, e que estamos tomando decisões a todo o momento - não há necessariamente certo e errado aqui.  \n",
        "8. O Apgar possui uma classificação indicando se o bebê passou por asfixia:\n",
        "- Entre 8 e 10 está em uma faixa 'normal'.\n",
        "- Entre 6 e 7, significa que o recém-nascido passou por 'asfixia leve'.\n",
        "- Entre 4 e 5 significa 'asfixia moderada'.\n",
        "- Entre 0 e 3 significa 'asfixia severa'.  \n",
        "\n",
        "Crie uma categorização dessa variável com essa codificação e calcule as frequências dessa categorização.  \n",
        "<br>\n",
        "9. Renomeie as variáveis para que fiquem no *snake case*, ou seja, em letras minúsculas, com um *underscore* entre as palávras. Dica: repare que se você não quiser criar um *dataframe* novo, você vai precisar usar a opção `inplace = True`."
      ]
    },
    {
      "cell_type": "code",
      "execution_count": 1,
      "metadata": {
        "colab": {
          "base_uri": "https://localhost:8080/"
        },
        "id": "ixm1dioRVAGz",
        "outputId": "b2a7cacf-335e-4d30-89ef-a49ccaada18c"
      },
      "outputs": [
        {
          "output_type": "stream",
          "name": "stdout",
          "text": [
            "(27028, 69)\n"
          ]
        },
        {
          "output_type": "execute_result",
          "data": {
            "text/plain": [
              "(27028, 69)"
            ]
          },
          "metadata": {},
          "execution_count": 1
        }
      ],
      "source": [
        "import pandas as pd\n",
        "import requests\n",
        "\n",
        "# 1) seu código aqui\n",
        "\n",
        "sinasc = pd.read_csv('SINASC_RO_2019.csv')\n",
        "print(sinasc.shape)\n",
        "\n",
        "sinasc.drop_duplicates().shape\n",
        "# Não há duplicados"
      ]
    },
    {
      "cell_type": "code",
      "source": [
        "# Contar o número de registros\n",
        "total_registros = len(sinasc)\n",
        "\n",
        "# Contar o número de registros únicos (não duplicados)\n",
        "registros_unicos = len(sinasc.drop_duplicates())\n",
        "\n",
        "# Imprimir os resultados\n",
        "print(\"Número total de registros:\", total_registros)\n",
        "print(\"Número de registros únicos (não duplicados):\", registros_unicos)"
      ],
      "metadata": {
        "colab": {
          "base_uri": "https://localhost:8080/"
        },
        "id": "u2UpfAqVXaAx",
        "outputId": "6d2fccd3-1904-49ee-cfba-6d53b67202a0"
      },
      "execution_count": 2,
      "outputs": [
        {
          "output_type": "stream",
          "name": "stdout",
          "text": [
            "Número total de registros: 27028\n",
            "Número de registros únicos (não duplicados): 27028\n"
          ]
        }
      ]
    },
    {
      "cell_type": "code",
      "execution_count": 3,
      "metadata": {
        "id": "3fukw9rCVAG2",
        "colab": {
          "base_uri": "https://localhost:8080/"
        },
        "outputId": "f4a2d784-839c-42f3-ac3d-bdf1c42021d4"
      },
      "outputs": [
        {
          "output_type": "stream",
          "name": "stdout",
          "text": [
            "ORIGEM          0\n",
            "CODESTAB      115\n",
            "CODMUNNASC      0\n",
            "LOCNASC         0\n",
            "IDADEMAE        0\n",
            "             ... \n",
            "munResUf        0\n",
            "munResLat       1\n",
            "munResLon       1\n",
            "munResAlt       1\n",
            "munResArea      1\n",
            "Length: 69, dtype: int64\n"
          ]
        }
      ],
      "source": [
        "# 2) seu código aqui\n",
        "\n",
        "# Contar o número de valores missing por variável\n",
        "valores_missing = sinasc.isna().sum()\n",
        "\n",
        "# Exibir os resultados\n",
        "print(valores_missing)"
      ]
    },
    {
      "cell_type": "code",
      "execution_count": 4,
      "metadata": {
        "id": "Z8EaBqiUVAG3",
        "colab": {
          "base_uri": "https://localhost:8080/"
        },
        "outputId": "cdcca22e-7c67-46e0-bfa1-c98683155ec7"
      },
      "outputs": [
        {
          "output_type": "stream",
          "name": "stdout",
          "text": [
            "LOCNASC          0\n",
            "IDADEMAE         0\n",
            "ESTCIVMAE      317\n",
            "ESCMAE         312\n",
            "QTDFILVIVO    1573\n",
            "GESTACAO      1232\n",
            "GRAVIDEZ        79\n",
            "CONSULTAS        0\n",
            "APGAR5         103\n",
            "dtype: int64\n"
          ]
        }
      ],
      "source": [
        "# 3) seu código aqui\n",
        "\n",
        "# Selecionar apenas as colunas de interesse\n",
        "colunas_interesse = ['LOCNASC', 'IDADEMAE', 'ESTCIVMAE', 'ESCMAE', 'QTDFILVIVO', 'GESTACAO', 'GRAVIDEZ', 'CONSULTAS', 'APGAR5']\n",
        "sinasc_filtrado = sinasc.loc[:, colunas_interesse]\n",
        "\n",
        "# Contar o número de valores missing por variável nas colunas filtradas\n",
        "valores_missing_filtrado = sinasc_filtrado.isna().sum()\n",
        "\n",
        "# Exibir os resultados\n",
        "print(valores_missing_filtrado)"
      ]
    },
    {
      "cell_type": "code",
      "execution_count": 5,
      "metadata": {
        "id": "mgqUm8qdVAG4",
        "colab": {
          "base_uri": "https://localhost:8080/"
        },
        "outputId": "b0785c35-d8a2-478d-db59-f4a88b924a36"
      },
      "outputs": [
        {
          "output_type": "stream",
          "name": "stdout",
          "text": [
            "Número de linhas: 26925\n",
            "Valores missing por variável:\n",
            "LOCNASC          0\n",
            "IDADEMAE         0\n",
            "ESTCIVMAE      315\n",
            "ESCMAE         310\n",
            "QTDFILVIVO    1566\n",
            "GESTACAO      1216\n",
            "GRAVIDEZ        76\n",
            "CONSULTAS        0\n",
            "APGAR5           0\n",
            "dtype: int64\n"
          ]
        }
      ],
      "source": [
        "# 4) seu código aqui\n",
        "\n",
        "# Remover linhas com valores ausentes na coluna Apgar5\n",
        "sinasc_filtrado = sinasc_filtrado.dropna(subset=['APGAR5'])\n",
        "\n",
        "# Contar o número de linhas após a substituição\n",
        "numero_linhas = len(sinasc_filtrado)\n",
        "\n",
        "# Contar o número de valores missing por variável nas colunas filtradas\n",
        "valores_missing_filtrado = sinasc_filtrado.isna().sum()\n",
        "\n",
        "# Exibir os resultados\n",
        "print('Número de linhas: {}'.format(numero_linhas))\n",
        "print('Valores missing por variável:')\n",
        "print(valores_missing_filtrado)"
      ]
    },
    {
      "cell_type": "code",
      "execution_count": 6,
      "metadata": {
        "id": "UeFRl5s8VAG5",
        "colab": {
          "base_uri": "https://localhost:8080/"
        },
        "outputId": "50b2320f-e9a5-4cbc-89eb-63ffdaccce7d"
      },
      "outputs": [
        {
          "output_type": "stream",
          "name": "stdout",
          "text": [
            "Número de linhas: 26925\n",
            "Valores missing por variável:\n",
            "LOCNASC          0\n",
            "IDADEMAE         0\n",
            "ESTCIVMAE        0\n",
            "ESCMAE         310\n",
            "QTDFILVIVO    1566\n",
            "GESTACAO      1216\n",
            "GRAVIDEZ        76\n",
            "CONSULTAS        0\n",
            "APGAR5           0\n",
            "dtype: int64\n"
          ]
        }
      ],
      "source": [
        "# 5) seu código aqui\n",
        "\n",
        "# Substituir valores ausentes nas colunas ESTCIVMAE e CONSULTAS por 9\n",
        "sinasc_filtrado.loc[:, 'ESTCIVMAE'] = sinasc_filtrado['ESTCIVMAE'].fillna(9)\n",
        "sinasc_filtrado.loc[:, 'CONSULTAS'] = sinasc_filtrado['CONSULTAS'].fillna(9)\n",
        "\n",
        "# Contar o número de linhas após a substituição\n",
        "numero_linhas = len(sinasc_filtrado)\n",
        "\n",
        "# Contar o número de valores missing por variável nas colunas filtradas\n",
        "valores_missing_filtrado = sinasc_filtrado.isna().sum()\n",
        "\n",
        "# Exibir os resultados\n",
        "print('Número de linhas: {}'.format(numero_linhas))\n",
        "print('Valores missing por variável:')\n",
        "print(valores_missing_filtrado)\n"
      ]
    },
    {
      "cell_type": "code",
      "execution_count": 7,
      "metadata": {
        "id": "r7I5IDOzVAG6",
        "colab": {
          "base_uri": "https://localhost:8080/"
        },
        "outputId": "27859220-c904-4370-d325-8809bf70c1f6"
      },
      "outputs": [
        {
          "output_type": "stream",
          "name": "stdout",
          "text": [
            "Número de linhas: 26925\n",
            "Valores missing por variável:\n",
            "LOCNASC          0\n",
            "IDADEMAE         0\n",
            "ESTCIVMAE        0\n",
            "ESCMAE         310\n",
            "QTDFILVIVO       0\n",
            "GESTACAO      1216\n",
            "GRAVIDEZ        76\n",
            "CONSULTAS        0\n",
            "APGAR5           0\n",
            "dtype: int64\n"
          ]
        }
      ],
      "source": [
        "# 6) Seu código aqui\n",
        "\n",
        "# Substituir valores ausentes na coluna QTDFILVIVO por 0\n",
        "sinasc_filtrado.loc[:, 'QTDFILVIVO'] = sinasc_filtrado['QTDFILVIVO'].fillna(0)\n",
        "\n",
        "# Contar o número de linhas após a substituição\n",
        "numero_linhas = len(sinasc_filtrado)\n",
        "\n",
        "# Contar o número de valores missing por variável nas colunas filtradas\n",
        "valores_missing_filtrado = sinasc_filtrado.isna().sum()\n",
        "\n",
        "# Exibir os resultados\n",
        "print('Número de linhas: {}'.format(numero_linhas))\n",
        "print('Valores missing por variável:')\n",
        "print(valores_missing_filtrado)"
      ]
    },
    {
      "cell_type": "code",
      "execution_count": 8,
      "metadata": {
        "id": "DKspavMEVAG7",
        "colab": {
          "base_uri": "https://localhost:8080/"
        },
        "outputId": "0b3e1253-2f97-46c6-d593-0346de6cdaa2"
      },
      "outputs": [
        {
          "output_type": "stream",
          "name": "stdout",
          "text": [
            "Número de linhas: 26925\n",
            "Valores missing por variável:\n",
            "LOCNASC       0\n",
            "IDADEMAE      0\n",
            "ESTCIVMAE     0\n",
            "ESCMAE        0\n",
            "QTDFILVIVO    0\n",
            "GESTACAO      0\n",
            "GRAVIDEZ      0\n",
            "CONSULTAS     0\n",
            "APGAR5        0\n",
            "dtype: int64\n"
          ]
        }
      ],
      "source": [
        "# 7) seu código aqui\n",
        "\n",
        "# Substituir valores ausentes nas colunas categóricas LOCNASC e GRAVIDEZ pela moda\n",
        "locnasc_moda = sinasc_filtrado['LOCNASC'].mode()[0]\n",
        "sinasc_filtrado.loc[:, 'LOCNASC'] = sinasc_filtrado['LOCNASC'].fillna(locnasc_moda)\n",
        "\n",
        "gravidez_moda = sinasc_filtrado['GRAVIDEZ'].mode()[0]\n",
        "sinasc_filtrado.loc[:, 'GRAVIDEZ'] = sinasc_filtrado['GRAVIDEZ'].fillna(gravidez_moda)\n",
        "\n",
        "# Substituir valores ausentes na coluna IDADEMAE pela mediana\n",
        "idademae_mediana = sinasc_filtrado['IDADEMAE'].median()\n",
        "sinasc_filtrado.loc[:, 'IDADEMAE'] = sinasc_filtrado['IDADEMAE'].fillna(idademae_mediana)\n",
        "\n",
        "# Substituir valores ausentes na coluna ESCMAE por 9 (não preenchido)\n",
        "sinasc_filtrado.loc[:, 'ESCMAE'] = sinasc_filtrado['ESCMAE'].fillna(9)\n",
        "\n",
        "# Substituir valores ausentes na coluna GESTACAO pela moda\n",
        "gestacao_moda = sinasc_filtrado['GESTACAO'].mode()[0]\n",
        "sinasc_filtrado.loc[:, 'GESTACAO'] = sinasc_filtrado['GESTACAO'].fillna(gestacao_moda)\n",
        "\n",
        "# Contar o número de linhas após a remoção\n",
        "numero_linhas = len(sinasc_filtrado)\n",
        "\n",
        "# Contar o número de valores missing por variável nas colunas filtradas\n",
        "valores_missing_filtrado = sinasc_filtrado.isna().sum()\n",
        "\n",
        "# Exibir os resultados\n",
        "print('Número de linhas: {}'.format(numero_linhas))\n",
        "print('Valores missing por variável:')\n",
        "print(valores_missing_filtrado)"
      ]
    },
    {
      "cell_type": "code",
      "execution_count": 9,
      "metadata": {
        "id": "8jaVmdxKVAG8",
        "colab": {
          "base_uri": "https://localhost:8080/"
        },
        "outputId": "134f2a81-4959-4ba4-dca9-9251744e52f6"
      },
      "outputs": [
        {
          "output_type": "stream",
          "name": "stdout",
          "text": [
            "Frequências da categorização do APGAR5:\n",
            "CATEG_APGAR5\n",
            "normal              26463\n",
            "asfixia leve          320\n",
            "asfixia severa         74\n",
            "asfixia moderada       68\n",
            "Name: count, dtype: int64\n"
          ]
        }
      ],
      "source": [
        "# 8) seu código aqui\n",
        "\n",
        "# Categorizar o APGAR5 de acordo com as faixas fornecidas\n",
        "sinasc_filtrado.loc[sinasc_filtrado['APGAR5'] >= 8, 'CATEG_APGAR5'] = 'normal'\n",
        "sinasc_filtrado.loc[(sinasc_filtrado['APGAR5'] >= 6) & (sinasc_filtrado['APGAR5'] <= 7), 'CATEG_APGAR5'] = 'asfixia leve'\n",
        "sinasc_filtrado.loc[(sinasc_filtrado['APGAR5'] >= 4) & (sinasc_filtrado['APGAR5'] <= 5), 'CATEG_APGAR5'] = 'asfixia moderada'\n",
        "sinasc_filtrado.loc[sinasc_filtrado['APGAR5'] <= 3, 'CATEG_APGAR5'] = 'asfixia severa'\n",
        "\n",
        "# Calcular as frequências de cada categoria\n",
        "frequencias_apgar = sinasc_filtrado['CATEG_APGAR5'].value_counts()\n",
        "\n",
        "# Exibir as frequências\n",
        "print('Frequências da categorização do APGAR5:')\n",
        "print(frequencias_apgar)\n"
      ]
    },
    {
      "cell_type": "code",
      "source": [
        "# 9) seu código aqui\n",
        "\n",
        "# Renomear as variáveis para snake case\n",
        "colunas_interesse = ['LOCNASC', 'IDADEMAE', 'ESTCIVMAE', 'ESCMAE', 'QTDFILVIVO', 'GESTACAO', 'GRAVIDEZ', 'CONSULTAS', 'APGAR5']\n",
        "\n",
        "# Criando um dicionário dos nomes antigos e dos novos nomes em snake case\n",
        "novos_nomes = {\n",
        "    'LOCNASC': 'loc_nasc',\n",
        "    'IDADEMAE': 'idade_mae',\n",
        "    'ESTCIVMAE': 'est_civ_mae',\n",
        "    'ESCMAE': 'esc_mae',\n",
        "    'QTDFILVIVO': 'qtd_fil_vivo',\n",
        "    'GESTACAO': 'gestacao',\n",
        "    'GRAVIDEZ': 'gravidez',\n",
        "    'CONSULTAS': 'consultas',\n",
        "    'APGAR5': 'apgar5'\n",
        "}\n",
        "\n",
        "# Renomear as colunas no dataframe\n",
        "sinasc_filtrado.rename(columns=novos_nomes, inplace=True)\n",
        "\n",
        "# Exibir o dataframe com as colunas renomeadas\n",
        "print(sinasc_filtrado.head())\n"
      ],
      "metadata": {
        "colab": {
          "base_uri": "https://localhost:8080/"
        },
        "id": "TsKmjrJiL37g",
        "outputId": "f9bdcecc-6d3c-4de0-af50-3518c7670cdb"
      },
      "execution_count": 10,
      "outputs": [
        {
          "output_type": "stream",
          "name": "stdout",
          "text": [
            "   loc_nasc  idade_mae  est_civ_mae          esc_mae  qtd_fil_vivo  \\\n",
            "0         1         19          5.0      8 a 11 anos           0.0   \n",
            "1         1         29          2.0      8 a 11 anos           1.0   \n",
            "2         1         37          9.0      8 a 11 anos           2.0   \n",
            "3         1         30          5.0  12 anos ou mais           0.0   \n",
            "4         1         30          2.0      8 a 11 anos           1.0   \n",
            "\n",
            "          gestacao gravidez  consultas  apgar5 CATEG_APGAR5  \n",
            "0  37 a 41 semanas    Única          4    10.0       normal  \n",
            "1  37 a 41 semanas    Única          4     9.0       normal  \n",
            "2  37 a 41 semanas    Única          4    10.0       normal  \n",
            "3  37 a 41 semanas    Única          3    10.0       normal  \n",
            "4  37 a 41 semanas    Única          4    10.0       normal  \n"
          ]
        }
      ]
    }
  ],
  "metadata": {
    "kernelspec": {
      "display_name": "Python 3",
      "language": "python",
      "name": "python3"
    },
    "language_info": {
      "codemirror_mode": {
        "name": "ipython",
        "version": 3
      },
      "file_extension": ".py",
      "mimetype": "text/x-python",
      "name": "python",
      "nbconvert_exporter": "python",
      "pygments_lexer": "ipython3",
      "version": "3.8.5"
    },
    "colab": {
      "provenance": []
    }
  },
  "nbformat": 4,
  "nbformat_minor": 0
}